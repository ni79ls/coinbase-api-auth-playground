{
 "cells": [
  {
   "attachments": {},
   "cell_type": "markdown",
   "metadata": {},
   "source": [
    "# How to Establish an Authenticated Connection to the Coinbase Cloud Advanced Trade REST API\n",
    "\n",
    "by Nils Ackermann\n",
    "\n",
    "## Introduction\n",
    "\n",
    "In case you want to get started as a crypto investor and you want to take matters into your own hands, it is important that you are able to connect to a currency exchange such as [coinbase.com](https://coinbase.com). This is the essential first step to start data analysis and automation and move into algorithmic trading. In this notebook you will learn the following:\n",
    "\n",
    "- How to connect to the authorized coinbase.com REST API via Python\n",
    "- How to load your personal acount and order data from Coinbase into Pandas\n",
    "\n",
    "The Coinbase Cloud API can be found [here](https://docs.cloud.coinbase.com/exchange/reference/)."
   ]
  },
  {
   "attachments": {},
   "cell_type": "markdown",
   "metadata": {},
   "source": [
    "## Step 0 - Setup your Python Virtual Environment\n",
    "\n",
    "- Create a virtual Python environment in the folder of this notebook:\n",
    "\n",
    "````\n",
    "python3 -m venv venv\n",
    "````\n",
    "\n",
    "- Activate the virtual environment:\n",
    "\n",
    "````\n",
    "source venv/bin/activate\n",
    "````\n",
    "\n",
    "- Install all necessary libraries:\n",
    "\n",
    "````\n",
    "pip install -r requirements.txt \n",
    "````\n",
    "\n",
    "- Change to the Python Kernel in your IDE that you use to open the Jupyter Notebook like Visual Studio Code\n",
    "\n",
    "## Step 1 - Create an API Key and API Secret for your Coinbase Account\n",
    "\n",
    "Just follow the instructions on the Coinbase website on how to create an API Key and the API Secret.\n",
    "\n",
    "**Remark:** Creating an API Key on coinbase.com might not work with Safari - try Chrome browser instead. Also, Coinbase delays the activation of the key by 48 hours.\n",
    "\n",
    "**Attention:** You must keep this key private. It must not be shared with anyone!\n",
    "\n",
    "Once you have created the key, please create a file in the same folder as this Jupyter Notebook with the following command:\n",
    "\n",
    "````\n",
    "touch ./.env\n",
    "````\n",
    "\n",
    "The file must hold the following environment variables. The file content should look something like this:\n",
    "\n",
    "````\n",
    "export CB-API-KEY=<your-coinbase-api-key>\n",
    "export CB-API-SECRET=<your-coinbase-api-secret>\n",
    "````"
   ]
  },
  {
   "attachments": {},
   "cell_type": "markdown",
   "metadata": {},
   "source": [
    "## Step 2 - Imports, Libraries and Custom Functions\n",
    "\n",
    "We need the following main Python imports:\n",
    "\n",
    "- **Requests:** For connecting to the REST endpoints from Coinbase, we will use [this](http://docs.python-requests.org/en/master/) great HTTP library. Very user friendly. Only a few lines of code to connect via REST. \n",
    "- **Pandas:** For data analysis and manipulation we use [Pandas](https://pandas.pydata.org).\n",
    "- **Json:** We are dealing with json format, therefore let's import it. The documentation is [here](https://docs.python.org/3/library/json.html)\n",
    "- **python-dotenv** This is a convenient library to access the environment variables that hold our secret API-Key"
   ]
  },
  {
   "cell_type": "code",
   "execution_count": null,
   "metadata": {},
   "outputs": [],
   "source": [
    "import pandas as pd\n",
    "import json\n",
    "import hmac\n",
    "import hashlib\n",
    "import requests\n",
    "from datetime import datetime, timedelta\n",
    "import time\n",
    "import numpy as np\n",
    "import plotly.graph_objects as go\n",
    "from plotly.subplots import make_subplots\n",
    "from urllib.error import HTTPError\n",
    "from dotenv import load_dotenv\n",
    "import os"
   ]
  },
  {
   "cell_type": "code",
   "execution_count": null,
   "metadata": {},
   "outputs": [],
   "source": [
    "# Load environment variable holding your secret key\n",
    "load_dotenv()\n",
    "CB_API_KEY = os.environ.get('CB-API-KEY')\n",
    "CB_SECRET_KEY = os.environ.get('CB-API-SECRET')"
   ]
  },
  {
   "cell_type": "code",
   "execution_count": null,
   "metadata": {},
   "outputs": [],
   "source": [
    "def cb_connect(url_path, limit=50, cursor=''):\n",
    "    url_prefix = 'https://coinbase.com'\n",
    "    url = url_prefix + url_path\n",
    "    secret_key = CB_SECRET_KEY\n",
    "    api_key = CB_API_KEY\n",
    "    timestamp = str(int(time.time()))\n",
    "    method = 'GET'\n",
    "    body = ''\n",
    "    message = timestamp + method + url_path.split('?')[0] + body \n",
    "    signature = hmac.new(secret_key.encode('utf-8'), message.encode('utf-8'), digestmod=hashlib.sha256).digest()\n",
    "    headers = {'accept': 'application/json','CB-ACCESS-SIGN':signature.hex(), 'CB-ACCESS-KEY':api_key, 'CB-ACCESS-TIMESTAMP': timestamp}\n",
    "    url=url+'?limit='+str(limit)\n",
    "    if cursor!='':\n",
    "        url=url+'&cursor='+cursor\n",
    "    try:\n",
    "        response = requests.get(url, headers=headers)\n",
    "        response.raise_for_status()\n",
    "        print(f'HTTP connection {url} successful!')\n",
    "        return response\n",
    "    except HTTPError as http_err:\n",
    "        print(f'HTTP error occurred: {http_err}')\n",
    "    except Exception as err:\n",
    "        print(f'Other error occurred: {err}')\n",
    "\n",
    "def cb_get_all_accounts():\n",
    "    has_next = True\n",
    "    cursor = ''\n",
    "    lst_accounts = []\n",
    "    while has_next:\n",
    "        response = cb_connect(url_path='/api/v3/brokerage/accounts',\n",
    "            limit=50,\n",
    "            cursor=cursor)\n",
    "        json_accounts = json.loads(response.text)\n",
    "        has_next = json_accounts['has_next']\n",
    "        cursor = json_accounts['cursor']\n",
    "        tmp_df_accounts = pd.json_normalize(json_accounts, record_path =['accounts'])\n",
    "        tmp_lst_accounts = tmp_df_accounts.values.tolist() \n",
    "        lst_accounts.extend(tmp_lst_accounts)\n",
    "    # Create dataframe from list at the end to improve performance\n",
    "    df_accounts = pd.DataFrame(lst_accounts)\n",
    "    # Add column names to final dataframe\n",
    "    df_accounts.columns = tmp_df_accounts.columns.values.tolist()\n",
    "    return df_accounts\n",
    "\n",
    "def cb_get_all_orders():\n",
    "    has_next = True\n",
    "    cursor = ''\n",
    "    lst_orders = []\n",
    "    while has_next:\n",
    "        response = cb_connect(url_path='/api/v3/brokerage/orders/historical/batch',\n",
    "            limit=100,\n",
    "            cursor=cursor)\n",
    "        json_orders = json.loads(response.text)\n",
    "        has_next = json_orders['has_next']\n",
    "        cursor = json_orders['cursor']\n",
    "        tmp_df_orders = pd.json_normalize(json_orders, record_path =['orders'])\n",
    "        tmp_lst_orders = tmp_df_orders.values.tolist() \n",
    "        lst_orders.extend(tmp_lst_orders)\n",
    "    # Create dataframe from list at the end to improve performance\n",
    "    df_orders = pd.DataFrame(lst_orders)\n",
    "    # Add column names to final dataframe\n",
    "    df_orders.columns = tmp_df_orders.columns.values.tolist()\n",
    "    return df_orders\n",
    "    "
   ]
  },
  {
   "attachments": {},
   "cell_type": "markdown",
   "metadata": {},
   "source": [
    "## Step 3 - Account Data\n",
    "\n",
    "We will use the above defined function to retrieve all account data. We will then filter the data to only display crypto currencies that are relevant for this coinbase user (meaning available balance or hold value is greater 0)."
   ]
  },
  {
   "cell_type": "code",
   "execution_count": null,
   "metadata": {},
   "outputs": [],
   "source": [
    "# All float numbers to show comma seperators when printing:\n",
    "pd.options.display.float_format = '{:,.2f}'.format\n",
    "\n",
    "df_accounts = cb_get_all_accounts()\n",
    "df_accounts.rename(columns={'available_balance.value': 'available_balance','hold.value': 'hold'}, inplace=True)\n",
    "df_accounts['available_balance'] = df_accounts['available_balance'].astype(float)\n",
    "df_accounts['hold'] = df_accounts['hold'].astype(float)\n",
    "df_accounts = df_accounts.query('available_balance > 0 or hold > 0')\n",
    "df_accounts.drop(['available_balance.currency','hold.currency','default','created_at','updated_at','deleted_at','ready'], axis=1, inplace=True)\n",
    "df_accounts[['currency','available_balance','hold']]"
   ]
  },
  {
   "attachments": {},
   "cell_type": "markdown",
   "metadata": {},
   "source": [
    "## Step 4 - Order Data\n",
    "\n",
    "Next, we will use the above defined function to retrieve all orders (independent of status)."
   ]
  },
  {
   "cell_type": "code",
   "execution_count": null,
   "metadata": {},
   "outputs": [],
   "source": [
    "df_orders = cb_get_all_orders()\n",
    "df_orders.rename(columns={'order_configuration.limit_limit_gtc.base_size': 'base_size','order_configuration.limit_limit_gtc.limit_price': 'limit_price','order_configuration.limit_limit_gtc.post_only': 'post_only'}, inplace=True)\n",
    "df_orders['base_size'] = df_orders['base_size'].astype(float)\n",
    "df_orders['limit_price'] = df_orders['limit_price'].astype(float)\n",
    "df_orders.drop(['user_id'], axis=1, inplace=True)\n",
    "df_orders[['product_id','side','status','order_type','base_size','limit_price']]"
   ]
  }
 ],
 "metadata": {
  "kernelspec": {
   "display_name": "venv",
   "language": "python",
   "name": "python3"
  },
  "language_info": {
   "codemirror_mode": {
    "name": "ipython",
    "version": 3
   },
   "file_extension": ".py",
   "mimetype": "text/x-python",
   "name": "python",
   "nbconvert_exporter": "python",
   "pygments_lexer": "ipython3",
   "version": "3.8.16"
  },
  "orig_nbformat": 4,
  "vscode": {
   "interpreter": {
    "hash": "718553b0483a54f170bef7d5d90846e747c69b195737bb2a91cfa497dfb224b3"
   }
  }
 },
 "nbformat": 4,
 "nbformat_minor": 2
}
